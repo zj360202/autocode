{
 "cells": [
  {
   "cell_type": "code",
   "execution_count": 4,
   "metadata": {},
   "outputs": [],
   "source": [
    "import inspect"
   ]
  },
  {
   "cell_type": "code",
   "execution_count": 1,
   "metadata": {},
   "outputs": [
    {
     "ename": "KeyError",
     "evalue": "'d'",
     "output_type": "error",
     "traceback": [
      "\u001b[1;31m---------------------------------------------------------------------------\u001b[0m",
      "\u001b[1;31mKeyError\u001b[0m                                  Traceback (most recent call last)",
      "Cell \u001b[1;32mIn[1], line 4\u001b[0m\n\u001b[0;32m      2\u001b[0m text_unformat \u001b[38;5;241m=\u001b[39m \u001b[38;5;124m'\u001b[39m\u001b[38;5;132;01m{a}\u001b[39;00m\u001b[38;5;124m, \u001b[39m\u001b[38;5;132;01m{b}\u001b[39;00m\u001b[38;5;124m, \u001b[39m\u001b[38;5;132;01m{c}\u001b[39;00m\u001b[38;5;124m, \u001b[39m\u001b[38;5;132;01m{d}\u001b[39;00m\u001b[38;5;124m, \u001b[39m\u001b[38;5;132;01m{e}\u001b[39;00m\u001b[38;5;124m, \u001b[39m\u001b[38;5;132;01m{f}\u001b[39;00m\u001b[38;5;124m'\u001b[39m\n\u001b[0;32m      3\u001b[0m text_data \u001b[38;5;241m=\u001b[39m {\u001b[38;5;124m'\u001b[39m\u001b[38;5;124ma\u001b[39m\u001b[38;5;124m'\u001b[39m: \u001b[38;5;124m'\u001b[39m\u001b[38;5;124ma\u001b[39m\u001b[38;5;124m'\u001b[39m, \u001b[38;5;124m'\u001b[39m\u001b[38;5;124mb\u001b[39m\u001b[38;5;124m'\u001b[39m: \u001b[38;5;124m'\u001b[39m\u001b[38;5;124mb\u001b[39m\u001b[38;5;124m'\u001b[39m, \u001b[38;5;124m'\u001b[39m\u001b[38;5;124mc\u001b[39m\u001b[38;5;124m'\u001b[39m: \u001b[38;5;124m'\u001b[39m\u001b[38;5;124mc\u001b[39m\u001b[38;5;124m'\u001b[39m}\n\u001b[1;32m----> 4\u001b[0m \u001b[38;5;28mprint\u001b[39m(text_unformat\u001b[38;5;241m.\u001b[39mformat(\u001b[38;5;241m*\u001b[39m\u001b[38;5;241m*\u001b[39mtext_data))\n",
      "\u001b[1;31mKeyError\u001b[0m: 'd'"
     ]
    }
   ],
   "source": [
    "# 验证format\n",
    "text_unformat = '{a}, {b}, {c}, {d}, {e}, {f}'\n",
    "text_data = {'a': 'a', 'b': 'b', 'c': 'c'}\n",
    "print(text_unformat.format(**text_data))"
   ]
  },
  {
   "cell_type": "code",
   "execution_count": 16,
   "metadata": {},
   "outputs": [
    {
     "name": "stdout",
     "output_type": "stream",
     "text": [
      "args:['a', 'b', 'c']\n",
      "a a (int)\n",
      "b b (str)\n",
      "c c (list, optional)\n",
      "func_desc:获取函数的描述内容.\n",
      "func_args_desc:['a (int): param a', 'b (str): param b', 'c (list, optional): param c. Defaults to None.']\n"
     ]
    }
   ],
   "source": [
    "temp_doc = \"\"\"\n",
    "获取函数的描述内容\n",
    "    \n",
    "Args:\n",
    "    a (int): param a\n",
    "    b (str): param b\n",
    "    c (list, optional): param c. Defaults to None.\n",
    "\n",
    "Returns:\n",
    "    d: result d\n",
    "\"\"\"\n",
    "def agent_fun(a: int, b: str, c: list = None):\n",
    "    \"\"\"\n",
    "    获取函数的描述内容\n",
    "    \n",
    "    Args:\n",
    "        a (int): param a\n",
    "        b (str): param b\n",
    "        c (list, optional): param c. Defaults to None.\n",
    "    Returns:\n",
    "        d: result d\n",
    "    \"\"\"\n",
    "    print(f'{a}, {b}, {c}')\n",
    "\n",
    "def agent_desc(agent_name, fun):\n",
    "    fun_doc = inspect.getdoc(fun)\n",
    "    fun_args = inspect.getfullargspec(fun)\n",
    "    # print(f'doc:{fun_doc}')\n",
    "    arg_list = fun_args.args\n",
    "    print(f'args:{arg_list}')\n",
    "    doc_lines = fun_doc.split('\\n')\n",
    "    func_desc = ''\n",
    "    for line in doc_lines: \n",
    "        if line.strip() == '':\n",
    "            continue\n",
    "        if line.strip() == 'Args:':\n",
    "            break\n",
    "        func_desc += f'{line}.'\n",
    "    func_args_desc, start = [], False\n",
    "    match_arg = []\n",
    "    for line in doc_lines:\n",
    "        line = line.strip()\n",
    "        if line == 'Args:':\n",
    "            start = True\n",
    "        elif 'Return' in line:\n",
    "            break\n",
    "        elif start:\n",
    "            arg_left = line.split(':')[0]\n",
    "            if '(' not in arg_left or ')' not in arg_left:\n",
    "                raise ValueError(f'agent: {agent_name} 的doc注释格式化不正确\\n{temp_doc}')\n",
    "            arg_name = arg_left.split('(')[0].strip()\n",
    "            print(arg_name, arg_left)\n",
    "            if arg_name not in arg_list:\n",
    "                raise ValueError(f'agent: {agent_name} 的doc注释描述中的参数:{arg_name}和实际参数未匹配')\n",
    "            func_args_desc.append(line)\n",
    "            for i, arg in enumerate(arg_list):\n",
    "                if arg == arg_name:\n",
    "                    match_arg.append(i)\n",
    "    if len(match_arg) != len(arg_list):\n",
    "        raise ValueError(f'agent: {agent_name} 的doc注释中未将所有的参数进行描述完全')                    \n",
    "    print(f'func_desc:{func_desc}')\n",
    "    print(f'func_args_desc:{func_args_desc}')\n",
    "\n",
    "agent_desc('agent_fun', agent_fun)"
   ]
  },
  {
   "cell_type": "code",
   "execution_count": null,
   "metadata": {
    "vscode": {
     "languageId": "powershell"
    }
   },
   "outputs": [],
   "source": [
    "dir"
   ]
  },
  {
   "cell_type": "code",
   "execution_count": 8,
   "metadata": {},
   "outputs": [
    {
     "name": "stdout",
     "output_type": "stream",
     "text": [
      "CompletedProcess(args='powershell.exe C:\\\\Windows\\\\System32\\\\calc.exe', returncode=0, stdout='', stderr='')\n"
     ]
    }
   ],
   "source": [
    "import subprocess\n",
    "# command = ['C:/Windows/System32/WindowsPowerShell/v1.0/powershell.exe', 'dir']\n",
    "# command = ['powershell.exe', 'dir']\n",
    "command = 'powershell.exe C:\\Windows\\System32\\calc.exe'\n",
    "result = subprocess.run(command, check=True, stdout=subprocess.PIPE, stderr=subprocess.PIPE, text=True)\n",
    "print(result)\n"
   ]
  }
 ],
 "metadata": {
  "kernelspec": {
   "display_name": "auto",
   "language": "python",
   "name": "python3"
  },
  "language_info": {
   "codemirror_mode": {
    "name": "ipython",
    "version": 3
   },
   "file_extension": ".py",
   "mimetype": "text/x-python",
   "name": "python",
   "nbconvert_exporter": "python",
   "pygments_lexer": "ipython3",
   "version": "3.10.14"
  }
 },
 "nbformat": 4,
 "nbformat_minor": 2
}
