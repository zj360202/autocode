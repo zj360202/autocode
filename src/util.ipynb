{
 "cells": [
  {
   "cell_type": "code",
   "execution_count": 4,
   "metadata": {},
   "outputs": [],
   "source": [
    "import inspect"
   ]
  },
  {
   "cell_type": "code",
   "execution_count": 1,
   "metadata": {},
   "outputs": [
    {
     "ename": "KeyError",
     "evalue": "'d'",
     "output_type": "error",
     "traceback": [
      "\u001b[1;31m---------------------------------------------------------------------------\u001b[0m",
      "\u001b[1;31mKeyError\u001b[0m                                  Traceback (most recent call last)",
      "Cell \u001b[1;32mIn[1], line 4\u001b[0m\n\u001b[0;32m      2\u001b[0m text_unformat \u001b[38;5;241m=\u001b[39m \u001b[38;5;124m'\u001b[39m\u001b[38;5;132;01m{a}\u001b[39;00m\u001b[38;5;124m, \u001b[39m\u001b[38;5;132;01m{b}\u001b[39;00m\u001b[38;5;124m, \u001b[39m\u001b[38;5;132;01m{c}\u001b[39;00m\u001b[38;5;124m, \u001b[39m\u001b[38;5;132;01m{d}\u001b[39;00m\u001b[38;5;124m, \u001b[39m\u001b[38;5;132;01m{e}\u001b[39;00m\u001b[38;5;124m, \u001b[39m\u001b[38;5;132;01m{f}\u001b[39;00m\u001b[38;5;124m'\u001b[39m\n\u001b[0;32m      3\u001b[0m text_data \u001b[38;5;241m=\u001b[39m {\u001b[38;5;124m'\u001b[39m\u001b[38;5;124ma\u001b[39m\u001b[38;5;124m'\u001b[39m: \u001b[38;5;124m'\u001b[39m\u001b[38;5;124ma\u001b[39m\u001b[38;5;124m'\u001b[39m, \u001b[38;5;124m'\u001b[39m\u001b[38;5;124mb\u001b[39m\u001b[38;5;124m'\u001b[39m: \u001b[38;5;124m'\u001b[39m\u001b[38;5;124mb\u001b[39m\u001b[38;5;124m'\u001b[39m, \u001b[38;5;124m'\u001b[39m\u001b[38;5;124mc\u001b[39m\u001b[38;5;124m'\u001b[39m: \u001b[38;5;124m'\u001b[39m\u001b[38;5;124mc\u001b[39m\u001b[38;5;124m'\u001b[39m}\n\u001b[1;32m----> 4\u001b[0m \u001b[38;5;28mprint\u001b[39m(text_unformat\u001b[38;5;241m.\u001b[39mformat(\u001b[38;5;241m*\u001b[39m\u001b[38;5;241m*\u001b[39mtext_data))\n",
      "\u001b[1;31mKeyError\u001b[0m: 'd'"
     ]
    }
   ],
   "source": [
    "# 验证format\n",
    "text_unformat = '{a}, {b}, {c}, {d}, {e}, {f}'\n",
    "text_data = {'a': 'a', 'b': 'b', 'c': 'c'}\n",
    "print(text_unformat.format(**text_data))"
   ]
  },
  {
   "cell_type": "code",
   "execution_count": 16,
   "metadata": {},
   "outputs": [
    {
     "name": "stdout",
     "output_type": "stream",
     "text": [
      "args:['a', 'b', 'c']\n",
      "a a (int)\n",
      "b b (str)\n",
      "c c (list, optional)\n",
      "func_desc:获取函数的描述内容.\n",
      "func_args_desc:['a (int): param a', 'b (str): param b', 'c (list, optional): param c. Defaults to None.']\n"
     ]
    }
   ],
   "source": [
    "temp_doc = \"\"\"\n",
    "获取函数的描述内容\n",
    "    \n",
    "Args:\n",
    "    a (int): param a\n",
    "    b (str): param b\n",
    "    c (list, optional): param c. Defaults to None.\n",
    "\n",
    "Returns:\n",
    "    d: result d\n",
    "\"\"\"\n",
    "def agent_fun(a: int, b: str, c: list = None):\n",
    "    \"\"\"\n",
    "    获取函数的描述内容\n",
    "    \n",
    "    Args:\n",
    "        a (int): param a\n",
    "        b (str): param b\n",
    "        c (list, optional): param c. Defaults to None.\n",
    "    Returns:\n",
    "        d: result d\n",
    "    \"\"\"\n",
    "    print(f'{a}, {b}, {c}')\n",
    "\n",
    "def agent_desc(agent_name, fun):\n",
    "    fun_doc = inspect.getdoc(fun)\n",
    "    fun_args = inspect.getfullargspec(fun)\n",
    "    # print(f'doc:{fun_doc}')\n",
    "    arg_list = fun_args.args\n",
    "    print(f'args:{arg_list}')\n",
    "    doc_lines = fun_doc.split('\\n')\n",
    "    func_desc = ''\n",
    "    for line in doc_lines: \n",
    "        if line.strip() == '':\n",
    "            continue\n",
    "        if line.strip() == 'Args:':\n",
    "            break\n",
    "        func_desc += f'{line}.'\n",
    "    func_args_desc, start = [], False\n",
    "    match_arg = []\n",
    "    for line in doc_lines:\n",
    "        line = line.strip()\n",
    "        if line == 'Args:':\n",
    "            start = True\n",
    "        elif 'Return' in line:\n",
    "            break\n",
    "        elif start:\n",
    "            arg_left = line.split(':')[0]\n",
    "            if '(' not in arg_left or ')' not in arg_left:\n",
    "                raise ValueError(f'agent: {agent_name} 的doc注释格式化不正确\\n{temp_doc}')\n",
    "            arg_name = arg_left.split('(')[0].strip()\n",
    "            print(arg_name, arg_left)\n",
    "            if arg_name not in arg_list:\n",
    "                raise ValueError(f'agent: {agent_name} 的doc注释描述中的参数:{arg_name}和实际参数未匹配')\n",
    "            func_args_desc.append(line)\n",
    "            for i, arg in enumerate(arg_list):\n",
    "                if arg == arg_name:\n",
    "                    match_arg.append(i)\n",
    "    if len(match_arg) != len(arg_list):\n",
    "        raise ValueError(f'agent: {agent_name} 的doc注释中未将所有的参数进行描述完全')                    \n",
    "    print(f'func_desc:{func_desc}')\n",
    "    print(f'func_args_desc:{func_args_desc}')\n",
    "\n",
    "agent_desc('agent_fun', agent_fun)"
   ]
  },
  {
   "cell_type": "code",
   "execution_count": null,
   "metadata": {
    "vscode": {
     "languageId": "powershell"
    }
   },
   "outputs": [],
   "source": [
    "dir"
   ]
  },
  {
   "cell_type": "code",
   "execution_count": 8,
   "metadata": {},
   "outputs": [
    {
     "name": "stdout",
     "output_type": "stream",
     "text": [
      "CompletedProcess(args='powershell.exe C:\\\\Windows\\\\System32\\\\calc.exe', returncode=0, stdout='', stderr='')\n"
     ]
    }
   ],
   "source": [
    "import subprocess\n",
    "# command = ['C:/Windows/System32/WindowsPowerShell/v1.0/powershell.exe', 'dir']\n",
    "# command = ['powershell.exe', 'dir']\n",
    "command = 'powershell.exe C:\\Windows\\System32\\calc.exe'\n",
    "result = subprocess.run(command, check=True, stdout=subprocess.PIPE, stderr=subprocess.PIPE, text=True)\n",
    "print(result)\n"
   ]
  },
  {
   "cell_type": "code",
   "execution_count": 2,
   "metadata": {
    "vscode": {
     "languageId": "powershell"
    }
   },
   "outputs": [
    {
     "name": "stdout",
     "output_type": "stream",
     "text": [
      "Note: you may need to restart the kernel to use updated packages.\n"
     ]
    }
   ],
   "source": [
    "pip install mistune"
   ]
  },
  {
   "cell_type": "code",
   "execution_count": 15,
   "metadata": {},
   "outputs": [],
   "source": [
    "from pprint import pprint"
   ]
  },
  {
   "cell_type": "code",
   "execution_count": 23,
   "metadata": {},
   "outputs": [
    {
     "name": "stdout",
     "output_type": "stream",
     "text": [
      "{\n",
      "    \"用户需求\": [\n",
      "        {\n",
      "            \"desc\": \"创建项目目录test\",\n",
      "            \"create_dir\": {\n",
      "                \"args\": {\n",
      "                    \"dir_path\": \"./test\"\n",
      "                }\n",
      "            }\n",
      "        },\n",
      "        {\n",
      "            \"desc\": \"在test目录下创建并写入包含hello world打印功能的test.py文件\",\n",
      "            \"write_file\": {\n",
      "                \"args\": {\n",
      "                    \"file_path\": \"./test/test.py\",\n",
      "                    \"file_content\": \"@@                    def hello_world():@@                        print('hello world')@@@@                    if __name__ == '__main__':@@                        hello_world()@@                \"\n",
      "                }\n",
      "            }\n",
      "        }\n",
      "    ],\n",
      "    \"验证项目\": [\n",
      "        {\n",
      "            \"desc\": \"在本地环境中直接运行test.py文件以验证输出hello world\",\n",
      "            \"windows_shell_agent\": {\n",
      "                \"args\": {\n",
      "                    \"command\": \"python ./test/test.py\"\n",
      "                }\n",
      "            }\n",
      "        }\n",
      "    ]\n",
      "}\n"
     ]
    }
   ],
   "source": [
    "import json\n",
    "from pprint import pprint\n",
    "\n",
    "f = open('../doc/create_project_answer.md', 'r')\n",
    "titles = ['用户需求', '验证项目']\n",
    "title_idx = 0\n",
    "contents = {}\n",
    "content, find_title, start_content = \"\", -1, False\n",
    "# 获取```类型，方便后续进行转化，目前主要是json需要转化，其他占不需要\n",
    "content_type = 'shell'\n",
    "\n",
    "# 判定当前内容是否在三个引号中，表示是python code\n",
    "tri_quota = False\n",
    "for line in f.readlines():\n",
    "    # print(f'line:{line}')\n",
    "    if title_idx < len(titles) and titles[title_idx] in line:\n",
    "        if find_title != -1:\n",
    "            if content_type == 'json':\n",
    "                contents[titles[title_idx-1]] = json.loads(content)\n",
    "            else:\n",
    "                contents[titles[title_idx-1]] = content\n",
    "            content = \"\"\n",
    "        find_title = title_idx\n",
    "        title_idx = title_idx + 1\n",
    "    elif find_title >= 0 and '```' in line:\n",
    "        # 判定是否在输出中，prompt要求，输出需要执行的内容必须在```中，而且需要尽量保证每一个```中的内容是原子性的\n",
    "        # 比如: 一个```json 中尽量不要存在两个json,后续会进行优化判定，当代码是不支持的\n",
    "        new_line = line.replace('\\n', '').strip()\n",
    "        if len(new_line) > 3:\n",
    "            content_type = str(new_line[3:])\n",
    "        start_content = not start_content\n",
    "    elif start_content:\n",
    "        # python代码中的\"\"\"转义json会报错\n",
    "        # python代码中的换行也会报错，都需要转义\n",
    "        if '\"\"\"' in line:\n",
    "            line = line.replace('\"\"\"', '\"')\n",
    "            tri_quota = not tri_quota\n",
    "        if tri_quota:\n",
    "            line = line.replace('\\n', '@@')\n",
    "        content += line\n",
    "if content != '':\n",
    "    # 最后一个需要放到字典中去\n",
    "    if content_type == 'json':\n",
    "        contents[titles[title_idx-1]] = json.loads(content)\n",
    "    else:\n",
    "        contents[titles[title_idx-1]] = content\n",
    "contents_str=json.dumps(contents,ensure_ascii=False, indent=4)\n",
    "print(contents_str)"
   ]
  },
  {
   "cell_type": "code",
   "execution_count": 22,
   "metadata": {},
   "outputs": [
    {
     "name": "stdout",
     "output_type": "stream",
     "text": [
      "\n",
      "def hello_world():\n",
      "    print('hello world')\n",
      "\n",
      "if __name__ == '__main__':\n",
      "    hello_world()\n",
      "                \n",
      "\n"
     ]
    }
   ],
   "source": [
    "# 将python代码部分格式化，方便后续写入python\n",
    "def format_python(code: str):\n",
    "    cs = code.split('@@')\n",
    "    empty_len = 0\n",
    "    for c in cs:\n",
    "        if len(c) != 0:\n",
    "            empty_len = len(c) - len(c.lstrip())\n",
    "            break\n",
    "    new_code = \"\"\n",
    "    for c in cs:\n",
    "        if len(c) > empty_len:\n",
    "            new_code += str(c[empty_len:])+'\\n'\n",
    "        else:\n",
    "            new_code += c+'\\n'\n",
    "    return new_code\n",
    "\n",
    "print(format_python(contents['用户需求'][1]['write_file']['args']['file_content']))"
   ]
  },
  {
   "cell_type": "code",
   "execution_count": 15,
   "metadata": {},
   "outputs": [
    {
     "name": "stdout",
     "output_type": "stream",
     "text": [
      "<ChromiumElement div class='btn--Bw0FbWYV'>\n",
      "千问模型问答: question:用python写一个Hello World answer:```python\n",
      "print(\"Hello World\")\n",
      "```\n"
     ]
    }
   ],
   "source": [
    "import time\n",
    "import pyperclip\n",
    "from DrissionPage import ChromiumPage\n",
    "\n",
    "question = \"用python写一个Hello World\"\n",
    "\n",
    "# 请求千问大模型，并通过复制按钮获取返回的内容\n",
    "page = ChromiumPage(6666)\n",
    "# page.get('https://tongyi.aliyun.com/qianwen/')\n",
    "new_page = page.get_tab(page.latest_tab).page\n",
    "\n",
    "textarea_ele = new_page.ele('tag:textarea@@class:ant-input')\n",
    "textarea_ele.input(question)\n",
    "new_page.ele('css:div.chatBtn--RFpkrgo_ > span.anticon').click()\n",
    "\n",
    "time.sleep(0.3)\n",
    "answers = new_page.eles('css:div.answerItem--U4_Uv3iw')\n",
    "last_answer = ''\n",
    "answer_ele = answers[-1]\n",
    "# flex_ele = new_page.ele('tag:div@@class=flexCon')\n",
    "parse = answer_ele.ele('css:div.rightArea--waHL0DVo > div:nth-child(3)')\n",
    "print(parse)\n",
    "while parse is None:\n",
    "    print('等待5s')\n",
    "    time.sleep(5)\n",
    "    parse = answer_ele.ele('css:div.rightArea--waHL0DVo > div:nth-child(3)')\n",
    "parse.click()\n",
    "time.sleep(1)\n",
    "answer = pyperclip.paste()\n",
    "print(f'千问模型问答: question:{question} answer:{answer}')\n",
    "# #chat-content > div.flex.mt-4 > div.content--oYlo131R > div.react-scroll-to-bottom--css-aywev-79elbk.w-full.flex-1.overflow-auto.scrollWrap--Cc0w8zsU > div > div.answerItem--U4_Uv3iw > div.containerWrap--lFLVsVCe > div.tools--IJfoLgka > div.rightArea--waHL0DVo > div:nth-child(3)"
   ]
  },
  {
   "cell_type": "code",
   "execution_count": 1,
   "metadata": {},
   "outputs": [
    {
     "name": "stdout",
     "output_type": "stream",
     "text": [
      "<ChromiumElement div class='answerItem--U4_Uv3iw'>\n"
     ]
    }
   ],
   "source": [
    "import time\n",
    "import pyperclip\n",
    "from DrissionPage import ChromiumPage\n",
    "\n",
    "# 请求千问大模型，并通过复制按钮获取返回的内容\n",
    "page = ChromiumPage(6666)\n",
    "# page.get('https://tongyi.aliyun.com/qianwen/')\n",
    "new_page = page.get_tab(page.latest_tab).page\n",
    "\n",
    "answers = new_page.eles('css:div.answerItem--U4_Uv3iw')\n",
    "last_answer = ''\n",
    "answer_ele = answers[-1]\n",
    "print(answer_ele)"
   ]
  },
  {
   "cell_type": "code",
   "execution_count": 2,
   "metadata": {},
   "outputs": [
    {
     "name": "stdout",
     "output_type": "stream",
     "text": [
      "<ChromiumElement div class='btn--Bw0FbWYV'>\n",
      "### 项目结构\n",
      "```\n",
      "test_project/\n",
      "└── test.py\n",
      "```\n",
      "\n",
      "### 用户需求\n",
      "\n",
      "```json\n",
      "[\n",
      "    {\n",
      "        \"desc\": \"创建test项目目录\",\n",
      "        \"agent\": {\n",
      "            \"name\": \"create_dir\",\n",
      "            \"args\": {\n",
      "                \"dir_path\": \"test_project\"\n",
      "            }\n",
      "        }\n",
      "    },\n",
      "    {\n",
      "        \"desc\": \"在test.py中写入包含hello world打印方法的代码\",\n",
      "        \"agent\": {\n",
      "            \"name\": \"write_file\",\n",
      "            \"args\": {\n",
      "                \"file_path\": \"test_project/test.py\",\n",
      "                \"file_content\": \"def print_hello_world():\\n    print(\\\"Hello World\\\")\"\n",
      "            }\n",
      "        }\n",
      "    },\n",
      "    {\n",
      "        \"desc\": \"执行test.py并验证输出\",\n",
      "        \"agent\": {\n",
      "            \"name\": \"run_python\",\n",
      "            \"args\": {\n",
      "                \"code\": \"from test import print_hello_world; print_hello_world()\",\n",
      "                \"env_name\": None\n",
      "            }\n",
      "        }\n",
      "    }\n",
      "]\n",
      "```\n",
      "\n",
      "### 验证项目效果描述\n",
      "\n",
      "```json\n",
      "[\n",
      "    {\n",
      "        \"desc\": \"执行test.py验证输出\",\n",
      "        \"agent\": {\n",
      "            \"name\": \"run_python\",\n",
      "            \"args\": {\n",
      "                \"code\": \"from test import print_hello_world; print_hello_world()\",\n",
      "                \"env_name\": None\n",
      "            }\n",
      "        }\n",
      "    }\n",
      "]\n",
      "```\n",
      "\n",
      "### 理解与策略说明\n",
      "\n",
      "1. **对自己的能力与行为的匹配进行review**: 本计划中，我选择了`create_dir`, `write_file`, 和 `run_python`这三个agent来完成任务，因为它们分别对应创建目录、写入文件内容、执行Python代码并验证输出的需求，这与任务要求完美匹配。\n",
      "\n",
      "2. **大局观与自我反思**: 在设计任务步骤时，考虑到最小化操作步骤同时保证逻辑清晰，首先创建项目目录，接着直接写入含有指定函数的Python文件，最后通过执行该文件来验证输出，这样做既高效又直接。\n",
      "\n",
      "3. **长期记忆对决策动作进行优化**: 基于以往经验，直接通过编写Python代码到文件中并立即执行是最直接且有效的方式，避免了多次读写或不必要的复杂逻辑引入。\n",
      "\n",
      "4. **高效率使用较少动作**: 上述计划仅用了三个步骤，每个步骤都针对性地解决了用户的一个具体需求，没有冗余操作，体现了高效率。\n",
      "\n",
      "5. **选择最佳解决方法**: 对于当前需求，直接利用Python环境执行代码是最直接且适合的方法，无需引入其他如web搜索或shell命令，因为这些方法会增加不必要的复杂度和依赖。通过`run_python` agent直接验证代码输出，简洁高效。\n"
     ]
    }
   ],
   "source": [
    "parse = answer_ele.ele('css:div.rightArea--waHL0DVo > div:nth-child(3)')\n",
    "print(parse)\n",
    "parse.click()\n",
    "time.sleep(1)\n",
    "answer = pyperclip.paste()\n",
    "print(answer)"
   ]
  },
  {
   "cell_type": "code",
   "execution_count": 37,
   "metadata": {},
   "outputs": [
    {
     "name": "stdout",
     "output_type": "stream",
     "text": [
      "content:[\n",
      "content:[    {\n",
      "content:[    {        \"desc\": \"创建项目目录并写入test.py文件\",\n",
      "content:[    {        \"desc\": \"创建项目目录并写入test.py文件\",        \"create_dir\": {\n",
      "content:[    {        \"desc\": \"创建项目目录并写入test.py文件\",        \"create_dir\": {            \"dir_path\": \"test\",\n",
      "content:[    {        \"desc\": \"创建项目目录并写入test.py文件\",        \"create_dir\": {            \"dir_path\": \"test\",            \"file_path\": \"test/test.py\",\n",
      "content:[    {        \"desc\": \"创建项目目录并写入test.py文件\",        \"create_dir\": {            \"dir_path\": \"test\",            \"file_path\": \"test/test.py\",            \"file_content\": \"def print_hello_world():@@\n",
      "content:[    {        \"desc\": \"创建项目目录并写入test.py文件\",        \"create_dir\": {            \"dir_path\": \"test\",            \"file_path\": \"test/test.py\",            \"file_content\": \"def print_hello_world():@@    print('Hello World')@@\n",
      "content:[    {        \"desc\": \"创建项目目录并写入test.py文件\",        \"create_dir\": {            \"dir_path\": \"test\",            \"file_path\": \"test/test.py\",            \"file_content\": \"def print_hello_world():@@    print('Hello World')@@\"\n",
      "content:[    {        \"desc\": \"创建项目目录并写入test.py文件\",        \"create_dir\": {            \"dir_path\": \"test\",            \"file_path\": \"test/test.py\",            \"file_content\": \"def print_hello_world():@@    print('Hello World')@@\"        }\n",
      "content:[    {        \"desc\": \"创建项目目录并写入test.py文件\",        \"create_dir\": {            \"dir_path\": \"test\",            \"file_path\": \"test/test.py\",            \"file_content\": \"def print_hello_world():@@    print('Hello World')@@\"        }    }\n",
      "content:[    {        \"desc\": \"创建项目目录并写入test.py文件\",        \"create_dir\": {            \"dir_path\": \"test\",            \"file_path\": \"test/test.py\",            \"file_content\": \"def print_hello_world():@@    print('Hello World')@@\"        }    }]\n",
      "content:[\n",
      "content:[    {\n",
      "content:[    {        \"desc\": \"执行test.py文件中的print_hello_world函数\",\n",
      "content:[    {        \"desc\": \"执行test.py文件中的print_hello_world函数\",        \"run_python\": {\n",
      "content:[    {        \"desc\": \"执行test.py文件中的print_hello_world函数\",        \"run_python\": {            \"code\": \"@@\n",
      "content:[    {        \"desc\": \"执行test.py文件中的print_hello_world函数\",        \"run_python\": {            \"code\": \"@@import sys@@\n",
      "content:[    {        \"desc\": \"执行test.py文件中的print_hello_world函数\",        \"run_python\": {            \"code\": \"@@import sys@@sys.path.append('test')@@\n",
      "content:[    {        \"desc\": \"执行test.py文件中的print_hello_world函数\",        \"run_python\": {            \"code\": \"@@import sys@@sys.path.append('test')@@from test import print_hello_world@@\n",
      "content:[    {        \"desc\": \"执行test.py文件中的print_hello_world函数\",        \"run_python\": {            \"code\": \"@@import sys@@sys.path.append('test')@@from test import print_hello_world@@@@\n",
      "content:[    {        \"desc\": \"执行test.py文件中的print_hello_world函数\",        \"run_python\": {            \"code\": \"@@import sys@@sys.path.append('test')@@from test import print_hello_world@@@@print_hello_world()@@\n",
      "content:[    {        \"desc\": \"执行test.py文件中的print_hello_world函数\",        \"run_python\": {            \"code\": \"@@import sys@@sys.path.append('test')@@from test import print_hello_world@@@@print_hello_world()@@\",\n",
      "content:[    {        \"desc\": \"执行test.py文件中的print_hello_world函数\",        \"run_python\": {            \"code\": \"@@import sys@@sys.path.append('test')@@from test import print_hello_world@@@@print_hello_world()@@\",            \"return_keys\": [\"output\"]\n",
      "content:[    {        \"desc\": \"执行test.py文件中的print_hello_world函数\",        \"run_python\": {            \"code\": \"@@import sys@@sys.path.append('test')@@from test import print_hello_world@@@@print_hello_world()@@\",            \"return_keys\": [\"output\"]        }\n",
      "content:[    {        \"desc\": \"执行test.py文件中的print_hello_world函数\",        \"run_python\": {            \"code\": \"@@import sys@@sys.path.append('test')@@from test import print_hello_world@@@@print_hello_world()@@\",            \"return_keys\": [\"output\"]        }    }\n",
      "content:[    {        \"desc\": \"执行test.py文件中的print_hello_world函数\",        \"run_python\": {            \"code\": \"@@import sys@@sys.path.append('test')@@from test import print_hello_world@@@@print_hello_world()@@\",            \"return_keys\": [\"output\"]        }    }]\n",
      "{'用户需求': [{'desc': '创建项目目录并写入test.py文件', 'create_dir': {'dir_path': 'test', 'file_path': 'test/test.py', 'file_content': \"def print_hello_world():@@    print('Hello World')@@\"}}], '验证项目': [{'desc': '执行test.py文件中的print_hello_world函数', 'run_python': {'code': \"@@import sys@@sys.path.append('test')@@from test import print_hello_world@@@@print_hello_world()@@\", 'return_keys': ['output']}}]}\n"
     ]
    }
   ],
   "source": [
    "import json\n",
    "# 获取千问的md，并解析\n",
    "def _parse_md(markdown: str, titles: list):\n",
    "    \"\"\"\n",
    "    解析markdown中的内容\n",
    "    Args:\n",
    "        markdown (str): markdown内容\n",
    "        titles (list): 需要抽取的内容标题\n",
    "    \"\"\"\n",
    "    if titles is None or len(titles) == 0:\n",
    "        return {}\n",
    "    title_idx = 0\n",
    "    contents = {}\n",
    "    content, find_title, start_content = \"\", -1, False\n",
    "    # 获取```类型，方便后续进行转化，目前主要是json需要转化，其他占不需要\n",
    "    content_type = 'shell'\n",
    "\n",
    "    # 判定当前内容是否在三个引号中，表示是python code\n",
    "    tri_quota = False\n",
    "    loop = 0\n",
    "    for line in markdown.split('\\n'):\n",
    "        # print(loop, line)\n",
    "        loop+=1\n",
    "        if title_idx < len(titles) and titles[title_idx] in line:\n",
    "            if find_title != -1:\n",
    "                if content_type == 'json':\n",
    "                    # print(f'content:{content}')\n",
    "                    contents[titles[title_idx-1]] = json.loads(content)\n",
    "                else:\n",
    "                    contents[titles[title_idx-1]] = content\n",
    "                content = \"\"\n",
    "            find_title = title_idx\n",
    "            title_idx = title_idx + 1\n",
    "        elif find_title >= 0 and '```' in line:\n",
    "            # 判定是否在输出中，prompt要求，输出需要执行的内容必须在```中，而且需要尽量保证每一个```中的内容是原子性的\n",
    "            # 比如: 一个```json 中尽量不要存在两个json,后续会进行优化判定，当代码是不支持的\n",
    "            new_line = line.replace('\\n', '').strip()\n",
    "            if len(new_line) > 3:\n",
    "                content_type = str(new_line[3:])\n",
    "            start_content = not start_content\n",
    "        elif start_content:\n",
    "            # python代码中的\"\"\"转义json会报错\n",
    "            # python代码中的换行也会报错，都需要转义\n",
    "            # line = line.replace(\"\\r\", '')\n",
    "            if '\"\"\"' in line:\n",
    "                line = line.replace('\"\"\"', '\"')\n",
    "                tri_quota = not tri_quota\n",
    "            if \"'\" in line:\n",
    "                line = line.replace('\"', \"'\")\n",
    "            if tri_quota:\n",
    "                if '\\r\\n' in line:\n",
    "                    line = line.replace(\"\\r\\n\", '@@')\n",
    "                elif '\\n' in line:\n",
    "                    line = line.replace('\\n', '@@')\n",
    "                elif '\\r' in line:\n",
    "                    line = line.replace(\"\\r\", '@@')\n",
    "            line = line.replace(\"\\r\", '')\n",
    "            # print(f'line:{line}')\n",
    "            content += line\n",
    "            print(f'content:{content}')\n",
    "    if content != '':\n",
    "        # 最后一个需要放到字典中去\n",
    "        # content = ''.join(ccs)\n",
    "        if content_type == 'json':\n",
    "            contents[titles[title_idx-1]] = json.loads(content)\n",
    "        else:\n",
    "            contents[titles[title_idx-1]] = content\n",
    "    return contents\n",
    "\n",
    "contents = _parse_md(answer, titles=['用户需求', '验证项目'])\n",
    "print(contents)"
   ]
  },
  {
   "cell_type": "code",
   "execution_count": 40,
   "metadata": {},
   "outputs": [
    {
     "name": "stdout",
     "output_type": "stream",
     "text": [
      "v:\"创建test项目目录\",\n",
      "v:{\n",
      "v:\"create_dir\",\n",
      "v:{\n",
      "v:\"test_project\"\n",
      "v:\"在test.py中写入包含hello world打印方法的代码\",\n",
      "v:{\n",
      "v:\"write_file\",\n",
      "v:{\n",
      "v:\"test_project/test.py\",\n",
      "file_content:                \"file_content\": \"def print_hello_world():\\n    print(\\\"Hello World\\\")\"\n",
      "v:\"def print_hello_world():@@    print('Hello World')\"\n",
      "v:\"def print_hello_world():@@    print('Hello World')\"\n",
      "v:\"执行test.py并验证输出\",\n",
      "v:{\n",
      "v:\"run_python\",\n",
      "v:{\n",
      "v:\"from test import print_hello_world; print_hello_world()\",\n",
      "lns:['\"env_name\"', ' None']\n",
      "v:None\n",
      "content:[{\"desc\":\"创建test项目目录\",\"agent\":{\"name\":\"create_dir\",\"args\":{\"dir_path\":\"test_project\"}}},{\"desc\":\"在test.py中写入包含hello world打印方法的代码\",\"agent\":{\"name\":\"write_file\",\"args\":{\"file_path\":\"test_project/test.py\",\"file_content\":\"def print_hello_world():@@    print('Hello World')\"}}},{\"desc\":\"执行test.py并验证输出\",\"agent\":{\"name\":\"run_python\",\"args\":{\"code\":\"from test import print_hello_world; print_hello_world()\",\"env_name\":\"\"}}}]\n",
      "v:\"执行test.py验证输出\",\n",
      "v:{\n",
      "v:\"run_python\",\n",
      "v:{\n",
      "v:\"from test import print_hello_world; print_hello_world()\",\n",
      "lns:['\"env_name\"', ' None']\n",
      "v:None\n",
      "content:[{\"desc\":\"执行test.py验证输出\",\"agent\":{\"name\":\"run_python\",\"args\":{\"code\":\"from test import print_hello_world; print_hello_world()\",\"env_name\":\"\"}}}]\n",
      "{'用户需求': [{'desc': '创建test项目目录', 'agent': {'name': 'create_dir', 'args': {'dir_path': 'test_project'}}}, {'desc': '在test.py中写入包含hello world打印方法的代码', 'agent': {'name': 'write_file', 'args': {'file_path': 'test_project/test.py', 'file_content': \"def print_hello_world():@@    print('Hello World')\"}}}, {'desc': '执行test.py并验证输出', 'agent': {'name': 'run_python', 'args': {'code': 'from test import print_hello_world; print_hello_world()', 'env_name': ''}}}], '验证项目': [{'desc': '执行test.py验证输出', 'agent': {'name': 'run_python', 'args': {'code': 'from test import print_hello_world; print_hello_world()', 'env_name': ''}}}]}\n"
     ]
    }
   ],
   "source": [
    "import re\n",
    "import json\n",
    "\n",
    "pattern = r'[\\[\\]\\{\\}\\,]+'\n",
    "def _parse_md(markdown: str, titles: list):\n",
    "    \"\"\"\n",
    "    解析markdown中的内容\n",
    "    Args:\n",
    "        markdown (str): markdown内容\n",
    "        titles (list): 需要抽取的内容标题\n",
    "    \"\"\"\n",
    "    if titles is None or len(titles) == 0:\n",
    "        return {}\n",
    "    title_idx = 0\n",
    "    contents = {}\n",
    "    content, find_title, start_content = \"\", -1, False\n",
    "    # 获取```类型，方便后续进行转化，目前主要是json需要转化，其他占不需要\n",
    "    content_type = 'shell'\n",
    "\n",
    "    # 判定当前内容是否在三个引号中，表示是python code\n",
    "    tri_quota = False\n",
    "    loop = 0\n",
    "    for line in markdown.split('\\n'):\n",
    "        loop+=1\n",
    "        if 'file_content' in line:\n",
    "            print(f'file_content:{line}')\n",
    "        if title_idx < len(titles) and titles[title_idx] in line:\n",
    "            if find_title != -1:\n",
    "                if content_type == 'json':\n",
    "                    print(f'content:{content}')\n",
    "                    contents[titles[title_idx-1]] = json.loads(content)\n",
    "                else:\n",
    "                    contents[titles[title_idx-1]] = content\n",
    "                content = \"\"\n",
    "            find_title = title_idx\n",
    "            title_idx = title_idx + 1\n",
    "        elif find_title >= 0 and '```' in line:\n",
    "            # 判定是否在输出中，prompt要求，输出需要执行的内容必须在```中，而且需要尽量保证每一个```中的内容是原子性的\n",
    "            # 比如: 一个```json 中尽量不要存在两个json,后续会进行优化判定，当代码是不支持的\n",
    "            new_line = line.replace('\\n', '').strip()\n",
    "            if len(new_line) > 3:\n",
    "                content_type = str(new_line[3:])\n",
    "            start_content = not start_content\n",
    "        elif start_content:\n",
    "            # python代码中的\"\"\"转义json会报错\n",
    "            # python代码中的换行也会报错，都需要转义\n",
    "            if line.endswith('\\r\\n'):\n",
    "                line = line.replace(\"\\r\\n\", '')\n",
    "            if line.endswith('\\r'):\n",
    "                line = line.replace(\"\\r\", '')\n",
    "            elif line.endswith('\\n'):\n",
    "                line = line.replace(\"\\n\", '')\n",
    "            \n",
    "            line = line.strip()\n",
    "            if '\"\"\"' in line:\n",
    "                line = line.replace('\"\"\"', '\"')\n",
    "                tri_quota = not tri_quota\n",
    "            lns = line.split(':')\n",
    "            if 'env_name' in line:\n",
    "                print(f'lns:{lns}')\n",
    "            if len(lns) > 1:\n",
    "                if len(lns) > 2:\n",
    "                    v = ':'.join(lns[1:]).strip()\n",
    "                else:\n",
    "                    v = lns[1].strip()\n",
    "                # 替换字符串中的双引号和换行\n",
    "                v = v.replace('\\\\n', '@@')\n",
    "                v = v.replace('\\\\', '')\n",
    "                if v.endswith('\"'):\n",
    "                    new_v = v[1:-1]\n",
    "                    new_v = new_v.replace('\"', \"'\")\n",
    "                    v = f'\"{new_v}\"'\n",
    "                elif v.endswith('\",'):\n",
    "                    new_v = v[1:-2]\n",
    "                    new_v = new_v.replace('\"', \"'\")\n",
    "                    v = f'\"{new_v}\",'\n",
    "                else:\n",
    "                    new_v = v\n",
    "                    new_v = new_v.replace('\"', \"'\")\n",
    "                    v = new_v\n",
    "                \n",
    "                # 将value中的换行替换掉\n",
    "                print(f'v:{v}')\n",
    "                if v == 'None':\n",
    "                    v = '\"\"'\n",
    "                elif v.startswith('\"') and not v.endswith('\"') and not v.endswith('\",'):\n",
    "                    v += '@@'\n",
    "                elif tri_quota:\n",
    "                    v += '@@'\n",
    "                \n",
    "                if 'file_content' in line:\n",
    "                    print(f'v:{v}')\n",
    "                line = lns[0] + ':' + v\n",
    "            else:\n",
    "                if not re.fullmatch(pattern, line) and not line.endswith('\"'):\n",
    "                    line += '@@'\n",
    "            # print(f'line:{line}')\n",
    "            content += line\n",
    "            # print(f'content:{content}')\n",
    "    if content != '':\n",
    "        # 最后一个需要放到字典中去\n",
    "        print(f'content:{content}')\n",
    "        if content_type == 'json':\n",
    "            contents[titles[title_idx-1]] = json.loads(content)\n",
    "        else:\n",
    "            contents[titles[title_idx-1]] = content\n",
    "    return contents\n",
    "\n",
    "contents = _parse_md(answer, titles=['用户需求', '验证项目'])\n",
    "print(contents)"
   ]
  },
  {
   "cell_type": "code",
   "execution_count": 6,
   "metadata": {},
   "outputs": [
    {
     "name": "stdout",
     "output_type": "stream",
     "text": [
      "yes\n"
     ]
    }
   ],
   "source": [
    "import re\n",
    "\n",
    "# 判定获取的字符串是否只包含[,],{,},\\,\n",
    "pattern = r'[\\[\\]\\{\\}\\,]+'\n",
    "if re.fullmatch(pattern, '},'):\n",
    "    print('yes')\n",
    "else:\n",
    "    print('no')"
   ]
  },
  {
   "cell_type": "code",
   "execution_count": 42,
   "metadata": {},
   "outputs": [
    {
     "name": "stdout",
     "output_type": "stream",
     "text": [
      "1 2 3\n"
     ]
    }
   ],
   "source": [
    "def func(a, b, c):\n",
    "    print(a, b, c)\n",
    "\n",
    "d = {'a': 1, 'b': 2, 'c': 3}\n",
    "d = dict(d)\n",
    "func(**d)"
   ]
  },
  {
   "cell_type": "code",
   "execution_count": 1,
   "metadata": {},
   "outputs": [
    {
     "name": "stdout",
     "output_type": "stream",
     "text": [
      "['c', 'akb']\n"
     ]
    }
   ],
   "source": [
    "import re\n",
    "\n",
    "pattern = re.compile(r'\\$\\{([^}]+)\\}')\n",
    "\n",
    "a = 'abc${c},bcd${akb}'\n",
    "matches = pattern.findall(a)\n",
    "print(matches)"
   ]
  },
  {
   "cell_type": "code",
   "execution_count": 1,
   "metadata": {},
   "outputs": [
    {
     "name": "stdout",
     "output_type": "stream",
     "text": [
      "True\n",
      "True\n"
     ]
    }
   ],
   "source": [
    "import os\n",
    "\n",
    "print(os.path.exists('d:/'))\n",
    "print(os.path.exists('d:'))"
   ]
  }
 ],
 "metadata": {
  "kernelspec": {
   "display_name": "auto",
   "language": "python",
   "name": "python3"
  },
  "language_info": {
   "codemirror_mode": {
    "name": "ipython",
    "version": 3
   },
   "file_extension": ".py",
   "mimetype": "text/x-python",
   "name": "python",
   "nbconvert_exporter": "python",
   "pygments_lexer": "ipython3",
   "version": "3.10.14"
  }
 },
 "nbformat": 4,
 "nbformat_minor": 2
}
