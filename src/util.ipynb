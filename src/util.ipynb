{
 "cells": [
  {
   "cell_type": "code",
   "execution_count": 4,
   "metadata": {},
   "outputs": [],
   "source": [
    "import inspect"
   ]
  },
  {
   "cell_type": "code",
   "execution_count": 1,
   "metadata": {},
   "outputs": [
    {
     "ename": "KeyError",
     "evalue": "'d'",
     "output_type": "error",
     "traceback": [
      "\u001b[1;31m---------------------------------------------------------------------------\u001b[0m",
      "\u001b[1;31mKeyError\u001b[0m                                  Traceback (most recent call last)",
      "Cell \u001b[1;32mIn[1], line 4\u001b[0m\n\u001b[0;32m      2\u001b[0m text_unformat \u001b[38;5;241m=\u001b[39m \u001b[38;5;124m'\u001b[39m\u001b[38;5;132;01m{a}\u001b[39;00m\u001b[38;5;124m, \u001b[39m\u001b[38;5;132;01m{b}\u001b[39;00m\u001b[38;5;124m, \u001b[39m\u001b[38;5;132;01m{c}\u001b[39;00m\u001b[38;5;124m, \u001b[39m\u001b[38;5;132;01m{d}\u001b[39;00m\u001b[38;5;124m, \u001b[39m\u001b[38;5;132;01m{e}\u001b[39;00m\u001b[38;5;124m, \u001b[39m\u001b[38;5;132;01m{f}\u001b[39;00m\u001b[38;5;124m'\u001b[39m\n\u001b[0;32m      3\u001b[0m text_data \u001b[38;5;241m=\u001b[39m {\u001b[38;5;124m'\u001b[39m\u001b[38;5;124ma\u001b[39m\u001b[38;5;124m'\u001b[39m: \u001b[38;5;124m'\u001b[39m\u001b[38;5;124ma\u001b[39m\u001b[38;5;124m'\u001b[39m, \u001b[38;5;124m'\u001b[39m\u001b[38;5;124mb\u001b[39m\u001b[38;5;124m'\u001b[39m: \u001b[38;5;124m'\u001b[39m\u001b[38;5;124mb\u001b[39m\u001b[38;5;124m'\u001b[39m, \u001b[38;5;124m'\u001b[39m\u001b[38;5;124mc\u001b[39m\u001b[38;5;124m'\u001b[39m: \u001b[38;5;124m'\u001b[39m\u001b[38;5;124mc\u001b[39m\u001b[38;5;124m'\u001b[39m}\n\u001b[1;32m----> 4\u001b[0m \u001b[38;5;28mprint\u001b[39m(text_unformat\u001b[38;5;241m.\u001b[39mformat(\u001b[38;5;241m*\u001b[39m\u001b[38;5;241m*\u001b[39mtext_data))\n",
      "\u001b[1;31mKeyError\u001b[0m: 'd'"
     ]
    }
   ],
   "source": [
    "# 验证format\n",
    "text_unformat = '{a}, {b}, {c}, {d}, {e}, {f}'\n",
    "text_data = {'a': 'a', 'b': 'b', 'c': 'c'}\n",
    "print(text_unformat.format(**text_data))"
   ]
  },
  {
   "cell_type": "code",
   "execution_count": 16,
   "metadata": {},
   "outputs": [
    {
     "name": "stdout",
     "output_type": "stream",
     "text": [
      "args:['a', 'b', 'c']\n",
      "a a (int)\n",
      "b b (str)\n",
      "c c (list, optional)\n",
      "func_desc:获取函数的描述内容.\n",
      "func_args_desc:['a (int): param a', 'b (str): param b', 'c (list, optional): param c. Defaults to None.']\n"
     ]
    }
   ],
   "source": [
    "temp_doc = \"\"\"\n",
    "获取函数的描述内容\n",
    "    \n",
    "Args:\n",
    "    a (int): param a\n",
    "    b (str): param b\n",
    "    c (list, optional): param c. Defaults to None.\n",
    "\n",
    "Returns:\n",
    "    d: result d\n",
    "\"\"\"\n",
    "def agent_fun(a: int, b: str, c: list = None):\n",
    "    \"\"\"\n",
    "    获取函数的描述内容\n",
    "    \n",
    "    Args:\n",
    "        a (int): param a\n",
    "        b (str): param b\n",
    "        c (list, optional): param c. Defaults to None.\n",
    "    Returns:\n",
    "        d: result d\n",
    "    \"\"\"\n",
    "    print(f'{a}, {b}, {c}')\n",
    "\n",
    "def agent_desc(agent_name, fun):\n",
    "    fun_doc = inspect.getdoc(fun)\n",
    "    fun_args = inspect.getfullargspec(fun)\n",
    "    # print(f'doc:{fun_doc}')\n",
    "    arg_list = fun_args.args\n",
    "    print(f'args:{arg_list}')\n",
    "    doc_lines = fun_doc.split('\\n')\n",
    "    func_desc = ''\n",
    "    for line in doc_lines: \n",
    "        if line.strip() == '':\n",
    "            continue\n",
    "        if line.strip() == 'Args:':\n",
    "            break\n",
    "        func_desc += f'{line}.'\n",
    "    func_args_desc, start = [], False\n",
    "    match_arg = []\n",
    "    for line in doc_lines:\n",
    "        line = line.strip()\n",
    "        if line == 'Args:':\n",
    "            start = True\n",
    "        elif 'Return' in line:\n",
    "            break\n",
    "        elif start:\n",
    "            arg_left = line.split(':')[0]\n",
    "            if '(' not in arg_left or ')' not in arg_left:\n",
    "                raise ValueError(f'agent: {agent_name} 的doc注释格式化不正确\\n{temp_doc}')\n",
    "            arg_name = arg_left.split('(')[0].strip()\n",
    "            print(arg_name, arg_left)\n",
    "            if arg_name not in arg_list:\n",
    "                raise ValueError(f'agent: {agent_name} 的doc注释描述中的参数:{arg_name}和实际参数未匹配')\n",
    "            func_args_desc.append(line)\n",
    "            for i, arg in enumerate(arg_list):\n",
    "                if arg == arg_name:\n",
    "                    match_arg.append(i)\n",
    "    if len(match_arg) != len(arg_list):\n",
    "        raise ValueError(f'agent: {agent_name} 的doc注释中未将所有的参数进行描述完全')                    \n",
    "    print(f'func_desc:{func_desc}')\n",
    "    print(f'func_args_desc:{func_args_desc}')\n",
    "\n",
    "agent_desc('agent_fun', agent_fun)"
   ]
  },
  {
   "cell_type": "code",
   "execution_count": null,
   "metadata": {
    "vscode": {
     "languageId": "powershell"
    }
   },
   "outputs": [],
   "source": [
    "dir"
   ]
  },
  {
   "cell_type": "code",
   "execution_count": 8,
   "metadata": {},
   "outputs": [
    {
     "name": "stdout",
     "output_type": "stream",
     "text": [
      "CompletedProcess(args='powershell.exe C:\\\\Windows\\\\System32\\\\calc.exe', returncode=0, stdout='', stderr='')\n"
     ]
    }
   ],
   "source": [
    "import subprocess\n",
    "# command = ['C:/Windows/System32/WindowsPowerShell/v1.0/powershell.exe', 'dir']\n",
    "# command = ['powershell.exe', 'dir']\n",
    "command = 'powershell.exe C:\\Windows\\System32\\calc.exe'\n",
    "result = subprocess.run(command, check=True, stdout=subprocess.PIPE, stderr=subprocess.PIPE, text=True)\n",
    "print(result)\n"
   ]
  },
  {
   "cell_type": "code",
   "execution_count": 2,
   "metadata": {
    "vscode": {
     "languageId": "powershell"
    }
   },
   "outputs": [
    {
     "name": "stdout",
     "output_type": "stream",
     "text": [
      "Note: you may need to restart the kernel to use updated packages.\n"
     ]
    }
   ],
   "source": [
    "pip install mistune"
   ]
  },
  {
   "cell_type": "code",
   "execution_count": 15,
   "metadata": {},
   "outputs": [],
   "source": [
    "from pprint import pprint"
   ]
  },
  {
   "cell_type": "code",
   "execution_count": 23,
   "metadata": {},
   "outputs": [
    {
     "name": "stdout",
     "output_type": "stream",
     "text": [
      "{\n",
      "    \"用户需求\": [\n",
      "        {\n",
      "            \"desc\": \"创建项目目录test\",\n",
      "            \"create_dir\": {\n",
      "                \"args\": {\n",
      "                    \"dir_path\": \"./test\"\n",
      "                }\n",
      "            }\n",
      "        },\n",
      "        {\n",
      "            \"desc\": \"在test目录下创建并写入包含hello world打印功能的test.py文件\",\n",
      "            \"write_file\": {\n",
      "                \"args\": {\n",
      "                    \"file_path\": \"./test/test.py\",\n",
      "                    \"file_content\": \"@@                    def hello_world():@@                        print('hello world')@@@@                    if __name__ == '__main__':@@                        hello_world()@@                \"\n",
      "                }\n",
      "            }\n",
      "        }\n",
      "    ],\n",
      "    \"验证项目\": [\n",
      "        {\n",
      "            \"desc\": \"在本地环境中直接运行test.py文件以验证输出hello world\",\n",
      "            \"windows_shell_agent\": {\n",
      "                \"args\": {\n",
      "                    \"command\": \"python ./test/test.py\"\n",
      "                }\n",
      "            }\n",
      "        }\n",
      "    ]\n",
      "}\n"
     ]
    }
   ],
   "source": [
    "import json\n",
    "from pprint import pprint\n",
    "\n",
    "f = open('../doc/create_project_answer.md', 'r')\n",
    "titles = ['用户需求', '验证项目']\n",
    "title_idx = 0\n",
    "contents = {}\n",
    "content, find_title, start_content = \"\", -1, False\n",
    "# 获取```类型，方便后续进行转化，目前主要是json需要转化，其他占不需要\n",
    "content_type = 'shell'\n",
    "\n",
    "# 判定当前内容是否在三个引号中，表示是python code\n",
    "tri_quota = False\n",
    "for line in f.readlines():\n",
    "    # print(f'line:{line}')\n",
    "    if title_idx < len(titles) and titles[title_idx] in line:\n",
    "        if find_title != -1:\n",
    "            if content_type == 'json':\n",
    "                contents[titles[title_idx-1]] = json.loads(content)\n",
    "            else:\n",
    "                contents[titles[title_idx-1]] = content\n",
    "            content = \"\"\n",
    "        find_title = title_idx\n",
    "        title_idx = title_idx + 1\n",
    "    elif find_title >= 0 and '```' in line:\n",
    "        # 判定是否在输出中，prompt要求，输出需要执行的内容必须在```中，而且需要尽量保证每一个```中的内容是原子性的\n",
    "        # 比如: 一个```json 中尽量不要存在两个json,后续会进行优化判定，当代码是不支持的\n",
    "        new_line = line.replace('\\n', '').strip()\n",
    "        if len(new_line) > 3:\n",
    "            content_type = str(new_line[3:])\n",
    "        start_content = not start_content\n",
    "    elif start_content:\n",
    "        # python代码中的\"\"\"转义json会报错\n",
    "        # python代码中的换行也会报错，都需要转义\n",
    "        if '\"\"\"' in line:\n",
    "            line = line.replace('\"\"\"', '\"')\n",
    "            tri_quota = not tri_quota\n",
    "        if tri_quota:\n",
    "            line = line.replace('\\n', '@@')\n",
    "        content += line\n",
    "if content != '':\n",
    "    # 最后一个需要放到字典中去\n",
    "    if content_type == 'json':\n",
    "        contents[titles[title_idx-1]] = json.loads(content)\n",
    "    else:\n",
    "        contents[titles[title_idx-1]] = content\n",
    "contents_str=json.dumps(contents,ensure_ascii=False, indent=4)\n",
    "print(contents_str)"
   ]
  },
  {
   "cell_type": "code",
   "execution_count": 22,
   "metadata": {},
   "outputs": [
    {
     "name": "stdout",
     "output_type": "stream",
     "text": [
      "\n",
      "def hello_world():\n",
      "    print('hello world')\n",
      "\n",
      "if __name__ == '__main__':\n",
      "    hello_world()\n",
      "                \n",
      "\n"
     ]
    }
   ],
   "source": [
    "# 将python代码部分格式化，方便后续写入python\n",
    "def format_python(code: str):\n",
    "    cs = code.split('@@')\n",
    "    empty_len = 0\n",
    "    for c in cs:\n",
    "        if len(c) != 0:\n",
    "            empty_len = len(c) - len(c.lstrip())\n",
    "            break\n",
    "    new_code = \"\"\n",
    "    for c in cs:\n",
    "        if len(c) > empty_len:\n",
    "            new_code += str(c[empty_len:])+'\\n'\n",
    "        else:\n",
    "            new_code += c+'\\n'\n",
    "    return new_code\n",
    "\n",
    "print(format_python(contents['用户需求'][1]['write_file']['args']['file_content']))"
   ]
  },
  {
   "cell_type": "code",
   "execution_count": 15,
   "metadata": {},
   "outputs": [
    {
     "name": "stdout",
     "output_type": "stream",
     "text": [
      "<ChromiumElement div class='btn--Bw0FbWYV'>\n",
      "千问模型问答: question:用python写一个Hello World answer:```python\n",
      "print(\"Hello World\")\n",
      "```\n"
     ]
    }
   ],
   "source": [
    "import time\n",
    "import pyperclip\n",
    "from DrissionPage import ChromiumPage\n",
    "\n",
    "question = \"用python写一个Hello World\"\n",
    "\n",
    "# 请求千问大模型，并通过复制按钮获取返回的内容\n",
    "page = ChromiumPage(6666)\n",
    "# page.get('https://tongyi.aliyun.com/qianwen/')\n",
    "new_page = page.get_tab(page.latest_tab).page\n",
    "\n",
    "textarea_ele = new_page.ele('tag:textarea@@class:ant-input')\n",
    "textarea_ele.input(question)\n",
    "new_page.ele('css:div.chatBtn--RFpkrgo_ > span.anticon').click()\n",
    "\n",
    "time.sleep(0.3)\n",
    "answers = new_page.eles('css:div.answerItem--U4_Uv3iw')\n",
    "last_answer = ''\n",
    "answer_ele = answers[-1]\n",
    "# flex_ele = new_page.ele('tag:div@@class=flexCon')\n",
    "parse = answer_ele.ele('css:div.rightArea--waHL0DVo > div:nth-child(3)')\n",
    "print(parse)\n",
    "while parse is None:\n",
    "    print('等待5s')\n",
    "    time.sleep(5)\n",
    "    parse = answer_ele.ele('css:div.rightArea--waHL0DVo > div:nth-child(3)')\n",
    "parse.click()\n",
    "time.sleep(1)\n",
    "answer = pyperclip.paste()\n",
    "print(f'千问模型问答: question:{question} answer:{answer}')\n",
    "# #chat-content > div.flex.mt-4 > div.content--oYlo131R > div.react-scroll-to-bottom--css-aywev-79elbk.w-full.flex-1.overflow-auto.scrollWrap--Cc0w8zsU > div > div.answerItem--U4_Uv3iw > div.containerWrap--lFLVsVCe > div.tools--IJfoLgka > div.rightArea--waHL0DVo > div:nth-child(3)"
   ]
  },
  {
   "cell_type": "code",
   "execution_count": 11,
   "metadata": {},
   "outputs": [
    {
     "name": "stdout",
     "output_type": "stream",
     "text": [
      "<ChromiumElement div class='answerItem--U4_Uv3iw'>\n"
     ]
    }
   ],
   "source": [
    "import time\n",
    "import pyperclip\n",
    "from DrissionPage import ChromiumPage\n",
    "\n",
    "question = \"用python写一个Hello World\"\n",
    "\n",
    "# 请求千问大模型，并通过复制按钮获取返回的内容\n",
    "page = ChromiumPage(6666)\n",
    "# page.get('https://tongyi.aliyun.com/qianwen/')\n",
    "new_page = page.get_tab(page.latest_tab).page\n",
    "\n",
    "answers = new_page.eles('css:div.answerItem--U4_Uv3iw')\n",
    "last_answer = ''\n",
    "answer_ele = answers[-1]\n",
    "print(answer_ele)"
   ]
  },
  {
   "cell_type": "code",
   "execution_count": 12,
   "metadata": {},
   "outputs": [
    {
     "name": "stdout",
     "output_type": "stream",
     "text": [
      "<ChromiumElement div class='btn--Bw0FbWYV'>\n",
      "斐波那契数列是一个非常经典的数列，其中每个数字是前两个数字的和。以下是使用Python编写斐波那契数列的几种不同方法。\n",
      "\n",
      "### 方法1：递归（简单但效率低，尤其对大数）\n",
      "\n",
      "```python\n",
      "def fibonacci_recursive(n):\n",
      "    if n <= 0:\n",
      "        print(\"输入的数值需要大于0\")\n",
      "    elif n == 1:\n",
      "        return 0\n",
      "    elif n == 2:\n",
      "        return 1\n",
      "    else:\n",
      "        return fibonacci_recursive(n-1) + fibonacci_recursive(n-2)\n",
      "\n",
      "# 打印前10个斐波那契数\n",
      "for i in range(1, 11):\n",
      "    print(fibonacci_recursive(i))\n",
      "```\n",
      "\n",
      "### 方法2：循环（更高效）\n",
      "\n",
      "```python\n",
      "def fibonacci_loop(n):\n",
      "    if n <= 0:\n",
      "        print(\"输入的数值需要大于0\")\n",
      "        return\n",
      "    elif n == 1:\n",
      "        return [0]\n",
      "    elif n == 2:\n",
      "        return [0, 1]\n",
      "    \n",
      "    sequence = [0, 1]\n",
      "    for _ in range(2, n):\n",
      "        next_value = sequence[-1] + sequence[-2]\n",
      "        sequence.append(next_value)\n",
      "    return sequence\n",
      "\n",
      "# 打印前10个斐波那契数\n",
      "print(fibonacci_loop(10))\n",
      "```\n",
      "\n",
      "### 方法3：使用列表推导式（简洁）\n",
      "\n",
      "```python\n",
      "def fibonacci_list_comprehension(n):\n",
      "    return [0, 1] + [fibonacci_list_comprehension(n-1)[-1] + fibonacci_list_comprehension(n-2)[-1] for _ in range(2, n)]\n",
      "\n",
      "# 打印前10个斐波那契数\n",
      "print(fibonacci_list_comprehension(10)[:10])\n",
      "```\n",
      "\n",
      "### 方法4：使用生成器（节省内存）\n",
      "\n",
      "```python\n",
      "def fibonacci_generator(n):\n",
      "    a, b = 0, 1\n",
      "    for _ in range(n):\n",
      "        yield a\n",
      "        a, b = b, a + b\n",
      "\n",
      "# 打印前10个斐波那契数\n",
      "for num in fibonacci_generator(10):\n",
      "    print(num)\n",
      "```\n",
      "\n",
      "选择适合你需求的方法使用即可。对于大多数实际应用，推荐使用循环或生成器方法，因为它们在处理大量序列时更为高效。\n"
     ]
    }
   ],
   "source": [
    "parse = answer_ele.ele('css:div.rightArea--waHL0DVo > div:nth-child(3)')\n",
    "print(parse)\n",
    "parse.click()\n",
    "time.sleep(1)\n",
    "answer = pyperclip.paste()\n",
    "print(answer)"
   ]
  }
 ],
 "metadata": {
  "kernelspec": {
   "display_name": "auto",
   "language": "python",
   "name": "python3"
  },
  "language_info": {
   "codemirror_mode": {
    "name": "ipython",
    "version": 3
   },
   "file_extension": ".py",
   "mimetype": "text/x-python",
   "name": "python",
   "nbconvert_exporter": "python",
   "pygments_lexer": "ipython3",
   "version": "3.10.14"
  }
 },
 "nbformat": 4,
 "nbformat_minor": 2
}
